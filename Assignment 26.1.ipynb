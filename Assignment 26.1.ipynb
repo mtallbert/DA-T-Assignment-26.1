{
 "cells": [
  {
   "cell_type": "markdown",
   "metadata": {},
   "source": [
    "Implement a Python program to generate all sentences where subject is in [\"Americans\", \"Indians\"] and verb is in [\"Play\", \"watch\"] and the object is in [\"Baseball\",\"cricket\"].\n",
    "\n",
    "Hint: Subject,Verb and Object should be declared in the program as shown below.\n",
    "\n",
    "subjects=[\"Americans \",\"Indians\"]\n",
    "\n",
    "verbs=[\"play\",\"watch\"]\n",
    "\n",
    "objects=[\"Baseball\",\"Cricket\"]\n",
    "\n",
    "Output should come as below:\n",
    "\n",
    "Americans play Baseball.\n",
    "\n",
    "Americans play Cricket. \n",
    "\n",
    "Americans watch Baseball.\n",
    "\n",
    "Americans watch Cricket. \n",
    "\n",
    "Indians play Baseball. \n",
    "\n",
    "Indians play Cricket. \n",
    "\n",
    "Indians watch Baseball. \n",
    "\n",
    "Indians watch Cricket. "
   ]
  },
  {
   "cell_type": "code",
   "execution_count": 2,
   "metadata": {},
   "outputs": [
    {
     "name": "stdout",
     "output_type": "stream",
     "text": [
      "Americans  play Baseball.\n",
      "Americans  play Cricket.\n",
      "Americans  watch Baseball.\n",
      "Americans  watch Cricket.\n",
      "Indians play Baseball.\n",
      "Indians play Cricket.\n",
      "Indians watch Baseball.\n",
      "Indians watch Cricket.\n"
     ]
    }
   ],
   "source": [
    "for x in [\"Americans \",\"Indians\"]:\n",
    "    for y in [\"play\",\"watch\"]:\n",
    "        for z in [\"Baseball\",\"Cricket\"]:\n",
    "            print(x + \" \" + y + \" \" + z + \".\")"
   ]
  },
  {
   "cell_type": "code",
   "execution_count": null,
   "metadata": {},
   "outputs": [],
   "source": []
  }
 ],
 "metadata": {
  "kernelspec": {
   "display_name": "Python 3",
   "language": "python",
   "name": "python3"
  },
  "language_info": {
   "codemirror_mode": {
    "name": "ipython",
    "version": 3
   },
   "file_extension": ".py",
   "mimetype": "text/x-python",
   "name": "python",
   "nbconvert_exporter": "python",
   "pygments_lexer": "ipython3",
   "version": "3.7.0"
  }
 },
 "nbformat": 4,
 "nbformat_minor": 2
}
